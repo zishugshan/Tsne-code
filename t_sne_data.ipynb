{
  "nbformat": 4,
  "nbformat_minor": 0,
  "metadata": {
    "colab": {
      "name": "t-sne-data.ipynb",
      "provenance": [],
      "authorship_tag": "ABX9TyN9LygSMUgU0ZxgtubS9us/",
      "include_colab_link": true
    },
    "kernelspec": {
      "name": "python3",
      "display_name": "Python 3"
    },
    "language_info": {
      "name": "python"
    }
  },
  "cells": [
    {
      "cell_type": "markdown",
      "metadata": {
        "id": "view-in-github",
        "colab_type": "text"
      },
      "source": [
        "<a href=\"https://colab.research.google.com/github/zishugshan/Tsne-code/blob/main/t_sne_data.ipynb\" target=\"_parent\"><img src=\"https://colab.research.google.com/assets/colab-badge.svg\" alt=\"Open In Colab\"/></a>"
      ]
    },
    {
      "cell_type": "code",
      "metadata": {
        "id": "E0VS039SSQDQ"
      },
      "source": [
        "import numpy\n",
        "from sklearn.manifold import TSNE\n",
        "import matplotlib.pyplot as plt"
      ],
      "execution_count": 1,
      "outputs": []
    },
    {
      "cell_type": "code",
      "metadata": {
        "id": "kxowh5D9mbzj",
        "outputId": "de3ba290-0b54-4491-89f8-323685b0fb5f",
        "colab": {
          "base_uri": "https://localhost:8080/"
        }
      },
      "source": [
        "# create data with 2 clusters within an encompassing ring\n",
        "\n",
        "X = numpy.random.normal(2.0, scale=0.5, size=(40,2)) \n",
        "Y = numpy.random.normal(-2.0, scale=0.5, size=(40,2)) \n",
        "X = numpy.concatenate((X, Y), axis=0)\n",
        "\n",
        "a = numpy.arange(0, 10, 0.1)\n",
        "ax = 5 * numpy.cos(a)\n",
        "ay = 5 * numpy.sin(a)\n",
        "R = numpy.stack((ax,ay), axis=1)\n",
        "X = numpy.concatenate((X, R), axis=0)\n",
        "\n",
        "X.shape"
      ],
      "execution_count": 2,
      "outputs": [
        {
          "output_type": "execute_result",
          "data": {
            "text/plain": [
              "(180, 2)"
            ]
          },
          "metadata": {},
          "execution_count": 2
        }
      ]
    },
    {
      "cell_type": "code",
      "metadata": {
        "id": "k126vQ8-oCij",
        "outputId": "9e80abc6-1951-4640-a6dd-5a46abb3aacc",
        "colab": {
          "base_uri": "https://localhost:8080/",
          "height": 396
        }
      },
      "source": [
        "# visualise data\n",
        "\n",
        "plt.figure(figsize=(6, 6))\n",
        "plt.scatter(X[:,0], X[:,1])\n",
        "plt.ylim(-6, 6)\n",
        "plt.xlim(-6, 6)"
      ],
      "execution_count": 3,
      "outputs": [
        {
          "output_type": "execute_result",
          "data": {
            "text/plain": [
              "(-6.0, 6.0)"
            ]
          },
          "metadata": {},
          "execution_count": 3
        },
        {
          "output_type": "display_data",
          "data": {
            "text/plain": [
              "<Figure size 432x432 with 1 Axes>"
            ],
            "image/png": "[encoded data removed]"
          },
          "metadata": {
            "needs_background": "light"
          }
        }
      ]
    },
    {
      "cell_type": "code",
      "metadata": {
        "id": "XC_LLwNsxwgt"
      },
      "source": [
        "# create tsne object which will reduce data to 2 dimensions\n",
        "\n",
        "tsne = TSNE(n_components=2, perplexity=30)"
      ],
      "execution_count": 4,
      "outputs": []
    },
    {
      "cell_type": "code",
      "metadata": {
        "id": "IQT1wqX5mNdD",
        "colab": {
          "base_uri": "https://localhost:8080/"
        },
        "outputId": "05f4e5fe-3cd0-42a6-9a0c-7551578a1fd5"
      },
      "source": [
        "# apply t-SNE to data\n",
        "\n",
        "X_2d = tsne.fit_transform(X)"
      ],
      "execution_count": 5,
      "outputs": [
        {
          "output_type": "stream",
          "name": "stderr",
          "text": [
            "/usr/local/lib/python3.7/dist-packages/sklearn/manifold/_t_sne.py:783: FutureWarning: The default initialization in TSNE will change from 'random' to 'pca' in 1.2.\n",
            "  FutureWarning,\n",
            "/usr/local/lib/python3.7/dist-packages/sklearn/manifold/_t_sne.py:793: FutureWarning: The default learning rate in TSNE will change from 200.0 to 'auto' in 1.2.\n",
            "  FutureWarning,\n"
          ]
        }
      ]
    },
    {
      "cell_type": "code",
      "metadata": {
        "id": "TIJECfQeoS9Y",
        "outputId": "3da14984-8150-4173-9a11-a788577e368d",
        "colab": {
          "base_uri": "https://localhost:8080/",
          "height": 392
        }
      },
      "source": [
        "# plot tSNE transformed data\n",
        "\n",
        "plt.figure(figsize=(6, 6))\n",
        "plt.scatter(X_2d[:,0], X_2d[:,1])"
      ],
      "execution_count": 6,
      "outputs": [
        {
          "output_type": "execute_result",
          "data": {
            "text/plain": [
              "<matplotlib.collections.PathCollection at 0x7f81611f7f10>"
            ]
          },
          "metadata": {},
          "execution_count": 6
        },
        {
          "output_type": "display_data",
          "data": {
            "text/plain": [
              "<Figure size 432x432 with 1 Axes>"
            ],
            "image/png": "[encoded data removed]"
          },
          "metadata": {
            "needs_background": "light"
          }
        }
      ]
    }
  ]
}