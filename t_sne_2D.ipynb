{
  "nbformat": 4,
  "nbformat_minor": 0,
  "metadata": {
    "colab": {
      "name": "t-sne-2D.ipynb",
      "provenance": [],
      "authorship_tag": "ABX9TyMuNLrrPHPUo6wZF0D19wj7",
      "include_colab_link": true
    },
    "kernelspec": {
      "name": "python3",
      "display_name": "Python 3"
    },
    "language_info": {
      "name": "python"
    }
  },
  "cells": [
    {
      "cell_type": "markdown",
      "metadata": {
        "id": "view-in-github",
        "colab_type": "text"
      },
      "source": [
        "<a href=\"https://colab.research.google.com/github/zishugshan/Tsne-code/blob/main/t_sne_2D.ipynb\" target=\"_parent\"><img src=\"https://colab.research.google.com/assets/colab-badge.svg\" alt=\"Open In Colab\"/></a>"
      ]
    },
    {
      "cell_type": "code",
      "metadata": {
        "id": "E0VS039SSQDQ"
      },
      "source": [
        "import numpy\n",
        "from sklearn.manifold import TSNE\n",
        "import matplotlib.pyplot as plt"
      ],
      "execution_count": 1,
      "outputs": []
    },
    {
      "cell_type": "code",
      "metadata": {
        "id": "kxowh5D9mbzj",
        "outputId": "ce495d48-dcdc-4160-8916-ee3f5096a21d",
        "colab": {
          "base_uri": "https://localhost:8080/"
        }
      },
      "source": [
        "# create data with 3 clusters\n",
        "\n",
        "A = numpy.random.normal(2.0, scale=0.5, size=(40,2)) \n",
        "B = numpy.random.normal(-2.0, scale=0.5, size=(40,2)) \n",
        "C = numpy.random.normal(0.0, scale=0.5, size=(40,2)) \n",
        "data = numpy.concatenate((A, B, C), axis=0)\n",
        "\n",
        "# data should be 120 2-dimensional points\n",
        "data.shape"
      ],
      "execution_count": 2,
      "outputs": [
        {
          "output_type": "execute_result",
          "data": {
            "text/plain": [
              "(120, 2)"
            ]
          },
          "metadata": {},
          "execution_count": 2
        }
      ]
    },
    {
      "cell_type": "code",
      "metadata": {
        "id": "k126vQ8-oCij",
        "outputId": "519b26e2-4248-466a-bab0-ce3e5a033cd8",
        "colab": {
          "base_uri": "https://localhost:8080/",
          "height": 283
        }
      },
      "source": [
        "# visualise data\n",
        "\n",
        "plt.scatter(data[:,0], data[:,1])"
      ],
      "execution_count": 3,
      "outputs": [
        {
          "output_type": "execute_result",
          "data": {
            "text/plain": [
              "<matplotlib.collections.PathCollection at 0x7f99c35ee890>"
            ]
          },
          "metadata": {},
          "execution_count": 3
        },
        {
          "output_type": "display_data",
          "data": {
            "text/plain": [
              "<Figure size 432x288 with 1 Axes>"
            ],
            "image/png": "[encoded data removed]"
          },
          "metadata": {
            "needs_background": "light"
          }
        }
      ]
    },
    {
      "cell_type": "code",
      "metadata": {
        "id": "XC_LLwNsxwgt"
      },
      "source": [
        "# create tsne object which will reduce data to 2 dimensions\n",
        "\n",
        "tsne = TSNE(n_components=2, perplexity=10)"
      ],
      "execution_count": 10,
      "outputs": []
    },
    {
      "cell_type": "code",
      "metadata": {
        "id": "IQT1wqX5mNdD",
        "colab": {
          "base_uri": "https://localhost:8080/"
        },
        "outputId": "f8460253-f9e8-4214-b82c-33854cc02f08"
      },
      "source": [
        "# apply tSNE to data\n",
        "\n",
        "data_2d = tsne.fit_transform(data)"
      ],
      "execution_count": 11,
      "outputs": [
        {
          "output_type": "stream",
          "name": "stderr",
          "text": [
            "/usr/local/lib/python3.7/dist-packages/sklearn/manifold/_t_sne.py:783: FutureWarning: The default initialization in TSNE will change from 'random' to 'pca' in 1.2.\n",
            "  FutureWarning,\n",
            "/usr/local/lib/python3.7/dist-packages/sklearn/manifold/_t_sne.py:793: FutureWarning: The default learning rate in TSNE will change from 200.0 to 'auto' in 1.2.\n",
            "  FutureWarning,\n"
          ]
        }
      ]
    },
    {
      "cell_type": "code",
      "metadata": {
        "id": "TIJECfQeoS9Y",
        "outputId": "8455f8c7-a6ed-4d59-851c-05b86053f5e3",
        "colab": {
          "base_uri": "https://localhost:8080/",
          "height": 283
        }
      },
      "source": [
        "# plot tSNE transformed data\n",
        "\n",
        "plt.scatter(data_2d[:,0], data_2d[:,1])"
      ],
      "execution_count": 12,
      "outputs": [
        {
          "output_type": "execute_result",
          "data": {
            "text/plain": [
              "<matplotlib.collections.PathCollection at 0x7f99bf39e210>"
            ]
          },
          "metadata": {},
          "execution_count": 12
        },
        {
          "output_type": "display_data",
          "data": {
            "text/plain": [
              "<Figure size 432x288 with 1 Axes>"
            ],
            "image/png": "[encoded data removed]"
          },
          "metadata": {
            "needs_background": "light"
          }
        }
      ]
    },
    {
      "cell_type": "code",
      "source": [
        ""
      ],
      "metadata": {
        "id": "4crUxV4w03pS"
      },
      "execution_count": null,
      "outputs": []
    }
  ]
}